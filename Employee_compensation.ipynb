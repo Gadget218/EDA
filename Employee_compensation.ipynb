{
 "cells": [
  {
   "cell_type": "code",
   "execution_count": 27,
   "id": "46224a63-c91b-46dd-b9b2-0783bc99df57",
   "metadata": {},
   "outputs": [],
   "source": [
    "import pandas as pd\n",
    "import numpy as np\n",
    "import matplotlib.pyplot as plt"
   ]
  },
  {
   "cell_type": "code",
   "execution_count": 28,
   "id": "fb3b38d4-c724-4a95-8e0a-d2664c29204f",
   "metadata": {},
   "outputs": [],
   "source": [
    "df=pd.read_csv('employee_compensation.csv')"
   ]
  },
  {
   "cell_type": "code",
   "execution_count": 29,
   "id": "6f3e11a6-c4d1-4126-8ed8-a56b8ad90e1a",
   "metadata": {},
   "outputs": [
    {
     "data": {
      "text/html": [
       "<div>\n",
       "<style scoped>\n",
       "    .dataframe tbody tr th:only-of-type {\n",
       "        vertical-align: middle;\n",
       "    }\n",
       "\n",
       "    .dataframe tbody tr th {\n",
       "        vertical-align: top;\n",
       "    }\n",
       "\n",
       "    .dataframe thead th {\n",
       "        text-align: right;\n",
       "    }\n",
       "</style>\n",
       "<table border=\"1\" class=\"dataframe\">\n",
       "  <thead>\n",
       "    <tr style=\"text-align: right;\">\n",
       "      <th></th>\n",
       "      <th>Year_Type</th>\n",
       "      <th>Year</th>\n",
       "      <th>Employee_Identifier</th>\n",
       "      <th>Salaries</th>\n",
       "      <th>Overtime</th>\n",
       "      <th>Other_Salaries</th>\n",
       "      <th>Total_Salary</th>\n",
       "      <th>Retirement</th>\n",
       "      <th>Health/Dental</th>\n",
       "      <th>Other_Benefits</th>\n",
       "      <th>Total_Benefits</th>\n",
       "      <th>Total_Compensation</th>\n",
       "    </tr>\n",
       "  </thead>\n",
       "  <tbody>\n",
       "    <tr>\n",
       "      <th>0</th>\n",
       "      <td>Fiscal</td>\n",
       "      <td>2015</td>\n",
       "      <td>42853</td>\n",
       "      <td>92288.22</td>\n",
       "      <td>267.45</td>\n",
       "      <td>267.45</td>\n",
       "      <td>92823.12</td>\n",
       "      <td>20700.20</td>\n",
       "      <td>12500.56</td>\n",
       "      <td>7605.75</td>\n",
       "      <td>40806.51</td>\n",
       "      <td>133629.63</td>\n",
       "    </tr>\n",
       "    <tr>\n",
       "      <th>1</th>\n",
       "      <td>Calendar</td>\n",
       "      <td>2015</td>\n",
       "      <td>28248</td>\n",
       "      <td>1466.38</td>\n",
       "      <td>348.23</td>\n",
       "      <td>0.00</td>\n",
       "      <td>1814.61</td>\n",
       "      <td>0.00</td>\n",
       "      <td>442.03</td>\n",
       "      <td>141.59</td>\n",
       "      <td>583.62</td>\n",
       "      <td>2398.23</td>\n",
       "    </tr>\n",
       "    <tr>\n",
       "      <th>2</th>\n",
       "      <td>Fiscal</td>\n",
       "      <td>2014</td>\n",
       "      <td>30651</td>\n",
       "      <td>76536.95</td>\n",
       "      <td>13583.72</td>\n",
       "      <td>10855.94</td>\n",
       "      <td>100976.61</td>\n",
       "      <td>18632.19</td>\n",
       "      <td>12464.61</td>\n",
       "      <td>8011.41</td>\n",
       "      <td>39108.21</td>\n",
       "      <td>140084.82</td>\n",
       "    </tr>\n",
       "    <tr>\n",
       "      <th>3</th>\n",
       "      <td>Fiscal</td>\n",
       "      <td>2014</td>\n",
       "      <td>19473</td>\n",
       "      <td>45659.88</td>\n",
       "      <td>0.00</td>\n",
       "      <td>1625.37</td>\n",
       "      <td>47285.25</td>\n",
       "      <td>10081.20</td>\n",
       "      <td>0.00</td>\n",
       "      <td>3936.63</td>\n",
       "      <td>14017.83</td>\n",
       "      <td>61303.08</td>\n",
       "    </tr>\n",
       "    <tr>\n",
       "      <th>4</th>\n",
       "      <td>Fiscal</td>\n",
       "      <td>2013</td>\n",
       "      <td>7176</td>\n",
       "      <td>41832.00</td>\n",
       "      <td>0.00</td>\n",
       "      <td>0.00</td>\n",
       "      <td>41832.00</td>\n",
       "      <td>7617.60</td>\n",
       "      <td>5908.52</td>\n",
       "      <td>3254.50</td>\n",
       "      <td>16780.62</td>\n",
       "      <td>58612.62</td>\n",
       "    </tr>\n",
       "  </tbody>\n",
       "</table>\n",
       "</div>"
      ],
      "text/plain": [
       "  Year_Type  Year  Employee_Identifier  Salaries  Overtime  Other_Salaries  \\\n",
       "0    Fiscal  2015                42853  92288.22    267.45          267.45   \n",
       "1  Calendar  2015                28248   1466.38    348.23            0.00   \n",
       "2    Fiscal  2014                30651  76536.95  13583.72        10855.94   \n",
       "3    Fiscal  2014                19473  45659.88      0.00         1625.37   \n",
       "4    Fiscal  2013                 7176  41832.00      0.00            0.00   \n",
       "\n",
       "   Total_Salary  Retirement  Health/Dental  Other_Benefits  Total_Benefits  \\\n",
       "0      92823.12    20700.20       12500.56         7605.75        40806.51   \n",
       "1       1814.61        0.00         442.03          141.59          583.62   \n",
       "2     100976.61    18632.19       12464.61         8011.41        39108.21   \n",
       "3      47285.25    10081.20           0.00         3936.63        14017.83   \n",
       "4      41832.00     7617.60        5908.52         3254.50        16780.62   \n",
       "\n",
       "   Total_Compensation  \n",
       "0           133629.63  \n",
       "1             2398.23  \n",
       "2           140084.82  \n",
       "3            61303.08  \n",
       "4            58612.62  "
      ]
     },
     "execution_count": 29,
     "metadata": {},
     "output_type": "execute_result"
    }
   ],
   "source": [
    "df.head()"
   ]
  },
  {
   "cell_type": "code",
   "execution_count": 30,
   "id": "379c95b9-a7d9-47e5-ad92-6c876d63c3b9",
   "metadata": {},
   "outputs": [
    {
     "data": {
      "text/html": [
       "<div>\n",
       "<style scoped>\n",
       "    .dataframe tbody tr th:only-of-type {\n",
       "        vertical-align: middle;\n",
       "    }\n",
       "\n",
       "    .dataframe tbody tr th {\n",
       "        vertical-align: top;\n",
       "    }\n",
       "\n",
       "    .dataframe thead th {\n",
       "        text-align: right;\n",
       "    }\n",
       "</style>\n",
       "<table border=\"1\" class=\"dataframe\">\n",
       "  <thead>\n",
       "    <tr style=\"text-align: right;\">\n",
       "      <th></th>\n",
       "      <th>Year_Type</th>\n",
       "      <th>Year</th>\n",
       "      <th>Employee_Identifier</th>\n",
       "      <th>Salaries</th>\n",
       "      <th>Overtime</th>\n",
       "      <th>Other_Salaries</th>\n",
       "      <th>Total_Salary</th>\n",
       "      <th>Retirement</th>\n",
       "      <th>Health/Dental</th>\n",
       "      <th>Other_Benefits</th>\n",
       "      <th>Total_Benefits</th>\n",
       "      <th>Total_Compensation</th>\n",
       "    </tr>\n",
       "  </thead>\n",
       "  <tbody>\n",
       "    <tr>\n",
       "      <th>49995</th>\n",
       "      <td>Fiscal</td>\n",
       "      <td>2016</td>\n",
       "      <td>1629</td>\n",
       "      <td>100222.50</td>\n",
       "      <td>17166.13</td>\n",
       "      <td>600.00</td>\n",
       "      <td>117988.63</td>\n",
       "      <td>18763.05</td>\n",
       "      <td>13068.80</td>\n",
       "      <td>9406.86</td>\n",
       "      <td>41238.71</td>\n",
       "      <td>159227.34</td>\n",
       "    </tr>\n",
       "    <tr>\n",
       "      <th>49996</th>\n",
       "      <td>Fiscal</td>\n",
       "      <td>2014</td>\n",
       "      <td>35471</td>\n",
       "      <td>1787.41</td>\n",
       "      <td>0.00</td>\n",
       "      <td>0.00</td>\n",
       "      <td>1787.41</td>\n",
       "      <td>0.00</td>\n",
       "      <td>563.31</td>\n",
       "      <td>145.36</td>\n",
       "      <td>708.67</td>\n",
       "      <td>2496.08</td>\n",
       "    </tr>\n",
       "    <tr>\n",
       "      <th>49997</th>\n",
       "      <td>Fiscal</td>\n",
       "      <td>2016</td>\n",
       "      <td>42176</td>\n",
       "      <td>36552.83</td>\n",
       "      <td>0.00</td>\n",
       "      <td>0.00</td>\n",
       "      <td>36552.83</td>\n",
       "      <td>6802.48</td>\n",
       "      <td>6855.83</td>\n",
       "      <td>3071.63</td>\n",
       "      <td>16729.94</td>\n",
       "      <td>53282.77</td>\n",
       "    </tr>\n",
       "    <tr>\n",
       "      <th>49998</th>\n",
       "      <td>Fiscal</td>\n",
       "      <td>2016</td>\n",
       "      <td>10980</td>\n",
       "      <td>46995.30</td>\n",
       "      <td>0.00</td>\n",
       "      <td>10943.14</td>\n",
       "      <td>57938.44</td>\n",
       "      <td>8840.98</td>\n",
       "      <td>10624.64</td>\n",
       "      <td>4706.37</td>\n",
       "      <td>24171.99</td>\n",
       "      <td>82110.43</td>\n",
       "    </tr>\n",
       "    <tr>\n",
       "      <th>49999</th>\n",
       "      <td>Fiscal</td>\n",
       "      <td>2014</td>\n",
       "      <td>29083</td>\n",
       "      <td>69268.81</td>\n",
       "      <td>0.00</td>\n",
       "      <td>1648.09</td>\n",
       "      <td>70916.90</td>\n",
       "      <td>15119.46</td>\n",
       "      <td>12464.61</td>\n",
       "      <td>5853.52</td>\n",
       "      <td>33437.59</td>\n",
       "      <td>104354.49</td>\n",
       "    </tr>\n",
       "  </tbody>\n",
       "</table>\n",
       "</div>"
      ],
      "text/plain": [
       "      Year_Type  Year  Employee_Identifier   Salaries  Overtime  \\\n",
       "49995    Fiscal  2016                 1629  100222.50  17166.13   \n",
       "49996    Fiscal  2014                35471    1787.41      0.00   \n",
       "49997    Fiscal  2016                42176   36552.83      0.00   \n",
       "49998    Fiscal  2016                10980   46995.30      0.00   \n",
       "49999    Fiscal  2014                29083   69268.81      0.00   \n",
       "\n",
       "       Other_Salaries  Total_Salary  Retirement  Health/Dental  \\\n",
       "49995          600.00     117988.63    18763.05       13068.80   \n",
       "49996            0.00       1787.41        0.00         563.31   \n",
       "49997            0.00      36552.83     6802.48        6855.83   \n",
       "49998        10943.14      57938.44     8840.98       10624.64   \n",
       "49999         1648.09      70916.90    15119.46       12464.61   \n",
       "\n",
       "       Other_Benefits  Total_Benefits  Total_Compensation  \n",
       "49995         9406.86        41238.71           159227.34  \n",
       "49996          145.36          708.67             2496.08  \n",
       "49997         3071.63        16729.94            53282.77  \n",
       "49998         4706.37        24171.99            82110.43  \n",
       "49999         5853.52        33437.59           104354.49  "
      ]
     },
     "execution_count": 30,
     "metadata": {},
     "output_type": "execute_result"
    }
   ],
   "source": [
    "df.tail()"
   ]
  },
  {
   "cell_type": "code",
   "execution_count": 31,
   "id": "4b98afed-67c4-4f24-bd67-c2075336d433",
   "metadata": {},
   "outputs": [
    {
     "data": {
      "text/plain": [
       "(50000, 12)"
      ]
     },
     "execution_count": 31,
     "metadata": {},
     "output_type": "execute_result"
    }
   ],
   "source": [
    "df.shape"
   ]
  },
  {
   "cell_type": "markdown",
   "id": "486203f5-992d-4f4b-af5d-a83007bc5e47",
   "metadata": {},
   "source": [
    "Data has been succesfully loaded"
   ]
  },
  {
   "cell_type": "code",
   "execution_count": 32,
   "id": "11e9b8f2-ff81-42c4-8169-1d3edab22c7a",
   "metadata": {},
   "outputs": [
    {
     "data": {
      "text/plain": [
       "Year_Type              0\n",
       "Year                   0\n",
       "Employee_Identifier    0\n",
       "Salaries               0\n",
       "Overtime               0\n",
       "Other_Salaries         0\n",
       "Total_Salary           0\n",
       "Retirement             0\n",
       "Health/Dental          0\n",
       "Other_Benefits         0\n",
       "Total_Benefits         0\n",
       "Total_Compensation     0\n",
       "dtype: int64"
      ]
     },
     "execution_count": 32,
     "metadata": {},
     "output_type": "execute_result"
    }
   ],
   "source": [
    "df.isnull().sum()"
   ]
  },
  {
   "cell_type": "markdown",
   "id": "eaf112b4-8025-4c96-a9ca-b861c8ce92b8",
   "metadata": {},
   "source": [
    "Data has no null values"
   ]
  },
  {
   "cell_type": "code",
   "execution_count": 33,
   "id": "a1c415a6-2476-4495-927a-9ce55cb650f0",
   "metadata": {},
   "outputs": [
    {
     "data": {
      "text/html": [
       "<div>\n",
       "<style scoped>\n",
       "    .dataframe tbody tr th:only-of-type {\n",
       "        vertical-align: middle;\n",
       "    }\n",
       "\n",
       "    .dataframe tbody tr th {\n",
       "        vertical-align: top;\n",
       "    }\n",
       "\n",
       "    .dataframe thead th {\n",
       "        text-align: right;\n",
       "    }\n",
       "</style>\n",
       "<table border=\"1\" class=\"dataframe\">\n",
       "  <thead>\n",
       "    <tr style=\"text-align: right;\">\n",
       "      <th></th>\n",
       "      <th>Year</th>\n",
       "      <th>Employee_Identifier</th>\n",
       "      <th>Salaries</th>\n",
       "      <th>Overtime</th>\n",
       "      <th>Other_Salaries</th>\n",
       "      <th>Total_Salary</th>\n",
       "      <th>Retirement</th>\n",
       "      <th>Health/Dental</th>\n",
       "      <th>Other_Benefits</th>\n",
       "      <th>Total_Benefits</th>\n",
       "      <th>Total_Compensation</th>\n",
       "    </tr>\n",
       "  </thead>\n",
       "  <tbody>\n",
       "    <tr>\n",
       "      <th>count</th>\n",
       "      <td>50000.000000</td>\n",
       "      <td>50000.000000</td>\n",
       "      <td>50000.000000</td>\n",
       "      <td>50000.000000</td>\n",
       "      <td>50000.000000</td>\n",
       "      <td>50000.000000</td>\n",
       "      <td>50000.000000</td>\n",
       "      <td>50000.000000</td>\n",
       "      <td>50000.000000</td>\n",
       "      <td>50000.000000</td>\n",
       "      <td>50000.000000</td>\n",
       "    </tr>\n",
       "    <tr>\n",
       "      <th>mean</th>\n",
       "      <td>2014.323520</td>\n",
       "      <td>26951.248280</td>\n",
       "      <td>63216.072364</td>\n",
       "      <td>4359.764337</td>\n",
       "      <td>3733.388626</td>\n",
       "      <td>71309.225327</td>\n",
       "      <td>12928.106369</td>\n",
       "      <td>8901.317952</td>\n",
       "      <td>4651.513353</td>\n",
       "      <td>26480.937674</td>\n",
       "      <td>97790.163001</td>\n",
       "    </tr>\n",
       "    <tr>\n",
       "      <th>std</th>\n",
       "      <td>1.031851</td>\n",
       "      <td>15538.458578</td>\n",
       "      <td>44815.697797</td>\n",
       "      <td>11080.852986</td>\n",
       "      <td>7585.911796</td>\n",
       "      <td>52275.710533</td>\n",
       "      <td>9816.080647</td>\n",
       "      <td>4909.608132</td>\n",
       "      <td>3790.660610</td>\n",
       "      <td>16841.374081</td>\n",
       "      <td>67871.134243</td>\n",
       "    </tr>\n",
       "    <tr>\n",
       "      <th>min</th>\n",
       "      <td>2013.000000</td>\n",
       "      <td>1.000000</td>\n",
       "      <td>-18437.730000</td>\n",
       "      <td>-12308.660000</td>\n",
       "      <td>-1473.150000</td>\n",
       "      <td>-3091.660000</td>\n",
       "      <td>-22684.610000</td>\n",
       "      <td>-478.950000</td>\n",
       "      <td>-8783.180000</td>\n",
       "      <td>-12992.390000</td>\n",
       "      <td>-3518.340000</td>\n",
       "    </tr>\n",
       "    <tr>\n",
       "      <th>25%</th>\n",
       "      <td>2013.000000</td>\n",
       "      <td>13509.750000</td>\n",
       "      <td>23347.365000</td>\n",
       "      <td>0.000000</td>\n",
       "      <td>0.000000</td>\n",
       "      <td>25281.260000</td>\n",
       "      <td>3559.685000</td>\n",
       "      <td>4267.960000</td>\n",
       "      <td>1588.502500</td>\n",
       "      <td>9570.765000</td>\n",
       "      <td>35769.755000</td>\n",
       "    </tr>\n",
       "    <tr>\n",
       "      <th>50%</th>\n",
       "      <td>2014.000000</td>\n",
       "      <td>27023.500000</td>\n",
       "      <td>62466.200000</td>\n",
       "      <td>0.000000</td>\n",
       "      <td>648.000000</td>\n",
       "      <td>67805.925000</td>\n",
       "      <td>13149.375000</td>\n",
       "      <td>11967.270000</td>\n",
       "      <td>4359.725000</td>\n",
       "      <td>30253.640000</td>\n",
       "      <td>97881.505000</td>\n",
       "    </tr>\n",
       "    <tr>\n",
       "      <th>75%</th>\n",
       "      <td>2015.000000</td>\n",
       "      <td>40364.250000</td>\n",
       "      <td>93031.832500</td>\n",
       "      <td>2648.882500</td>\n",
       "      <td>4477.030000</td>\n",
       "      <td>102920.862500</td>\n",
       "      <td>19580.715000</td>\n",
       "      <td>12801.790000</td>\n",
       "      <td>6854.057500</td>\n",
       "      <td>38708.865000</td>\n",
       "      <td>141770.195000</td>\n",
       "    </tr>\n",
       "    <tr>\n",
       "      <th>max</th>\n",
       "      <td>2016.000000</td>\n",
       "      <td>53793.000000</td>\n",
       "      <td>507831.600000</td>\n",
       "      <td>208668.820000</td>\n",
       "      <td>199112.350000</td>\n",
       "      <td>507831.600000</td>\n",
       "      <td>105052.980000</td>\n",
       "      <td>21291.180000</td>\n",
       "      <td>34108.750000</td>\n",
       "      <td>141043.640000</td>\n",
       "      <td>648875.240000</td>\n",
       "    </tr>\n",
       "  </tbody>\n",
       "</table>\n",
       "</div>"
      ],
      "text/plain": [
       "               Year  Employee_Identifier       Salaries       Overtime  \\\n",
       "count  50000.000000         50000.000000   50000.000000   50000.000000   \n",
       "mean    2014.323520         26951.248280   63216.072364    4359.764337   \n",
       "std        1.031851         15538.458578   44815.697797   11080.852986   \n",
       "min     2013.000000             1.000000  -18437.730000  -12308.660000   \n",
       "25%     2013.000000         13509.750000   23347.365000       0.000000   \n",
       "50%     2014.000000         27023.500000   62466.200000       0.000000   \n",
       "75%     2015.000000         40364.250000   93031.832500    2648.882500   \n",
       "max     2016.000000         53793.000000  507831.600000  208668.820000   \n",
       "\n",
       "       Other_Salaries   Total_Salary     Retirement  Health/Dental  \\\n",
       "count    50000.000000   50000.000000   50000.000000   50000.000000   \n",
       "mean      3733.388626   71309.225327   12928.106369    8901.317952   \n",
       "std       7585.911796   52275.710533    9816.080647    4909.608132   \n",
       "min      -1473.150000   -3091.660000  -22684.610000    -478.950000   \n",
       "25%          0.000000   25281.260000    3559.685000    4267.960000   \n",
       "50%        648.000000   67805.925000   13149.375000   11967.270000   \n",
       "75%       4477.030000  102920.862500   19580.715000   12801.790000   \n",
       "max     199112.350000  507831.600000  105052.980000   21291.180000   \n",
       "\n",
       "       Other_Benefits  Total_Benefits  Total_Compensation  \n",
       "count    50000.000000    50000.000000        50000.000000  \n",
       "mean      4651.513353    26480.937674        97790.163001  \n",
       "std       3790.660610    16841.374081        67871.134243  \n",
       "min      -8783.180000   -12992.390000        -3518.340000  \n",
       "25%       1588.502500     9570.765000        35769.755000  \n",
       "50%       4359.725000    30253.640000        97881.505000  \n",
       "75%       6854.057500    38708.865000       141770.195000  \n",
       "max      34108.750000   141043.640000       648875.240000  "
      ]
     },
     "execution_count": 33,
     "metadata": {},
     "output_type": "execute_result"
    }
   ],
   "source": [
    "df.describe()"
   ]
  },
  {
   "cell_type": "code",
   "execution_count": 34,
   "id": "4d5f69d4-a06a-4fbb-a6a7-08e716295050",
   "metadata": {},
   "outputs": [
    {
     "data": {
      "text/html": [
       "<div>\n",
       "<style scoped>\n",
       "    .dataframe tbody tr th:only-of-type {\n",
       "        vertical-align: middle;\n",
       "    }\n",
       "\n",
       "    .dataframe tbody tr th {\n",
       "        vertical-align: top;\n",
       "    }\n",
       "\n",
       "    .dataframe thead th {\n",
       "        text-align: right;\n",
       "    }\n",
       "</style>\n",
       "<table border=\"1\" class=\"dataframe\">\n",
       "  <thead>\n",
       "    <tr style=\"text-align: right;\">\n",
       "      <th></th>\n",
       "      <th>Year_Type</th>\n",
       "    </tr>\n",
       "  </thead>\n",
       "  <tbody>\n",
       "    <tr>\n",
       "      <th>count</th>\n",
       "      <td>50000</td>\n",
       "    </tr>\n",
       "    <tr>\n",
       "      <th>unique</th>\n",
       "      <td>2</td>\n",
       "    </tr>\n",
       "    <tr>\n",
       "      <th>top</th>\n",
       "      <td>Fiscal</td>\n",
       "    </tr>\n",
       "    <tr>\n",
       "      <th>freq</th>\n",
       "      <td>28665</td>\n",
       "    </tr>\n",
       "  </tbody>\n",
       "</table>\n",
       "</div>"
      ],
      "text/plain": [
       "       Year_Type\n",
       "count      50000\n",
       "unique         2\n",
       "top       Fiscal\n",
       "freq       28665"
      ]
     },
     "execution_count": 34,
     "metadata": {},
     "output_type": "execute_result"
    }
   ],
   "source": [
    "df.describe(include=['object'])"
   ]
  },
  {
   "cell_type": "markdown",
   "id": "3dd5a8a6-5c81-408e-b551-c4640cfe115a",
   "metadata": {},
   "source": [
    "Let's convert Year column to categorical"
   ]
  },
  {
   "cell_type": "code",
   "execution_count": 35,
   "id": "532da1d4-2b28-44a8-b726-ab96543b77cc",
   "metadata": {},
   "outputs": [],
   "source": [
    "df['Year']=df['Year'].astype(str)"
   ]
  },
  {
   "cell_type": "code",
   "execution_count": 36,
   "id": "293a50ed-d7b7-4327-8904-60b526dc05d5",
   "metadata": {},
   "outputs": [
    {
     "data": {
      "text/plain": [
       "Year_Type               object\n",
       "Year                    object\n",
       "Employee_Identifier      int64\n",
       "Salaries               float64\n",
       "Overtime               float64\n",
       "Other_Salaries         float64\n",
       "Total_Salary           float64\n",
       "Retirement             float64\n",
       "Health/Dental          float64\n",
       "Other_Benefits         float64\n",
       "Total_Benefits         float64\n",
       "Total_Compensation     float64\n",
       "dtype: object"
      ]
     },
     "execution_count": 36,
     "metadata": {},
     "output_type": "execute_result"
    }
   ],
   "source": [
    "df.dtypes"
   ]
  },
  {
   "cell_type": "markdown",
   "id": "d7f9c03d-4f42-4049-9ceb-13d4ba2f8d9f",
   "metadata": {},
   "source": [
    "Columns are correct types now"
   ]
  },
  {
   "cell_type": "code",
   "execution_count": 37,
   "id": "a5d0b44a-f1a2-4676-9c59-0a7b186e44c6",
   "metadata": {},
   "outputs": [
    {
     "data": {
      "text/html": [
       "<div>\n",
       "<style scoped>\n",
       "    .dataframe tbody tr th:only-of-type {\n",
       "        vertical-align: middle;\n",
       "    }\n",
       "\n",
       "    .dataframe tbody tr th {\n",
       "        vertical-align: top;\n",
       "    }\n",
       "\n",
       "    .dataframe thead th {\n",
       "        text-align: right;\n",
       "    }\n",
       "</style>\n",
       "<table border=\"1\" class=\"dataframe\">\n",
       "  <thead>\n",
       "    <tr style=\"text-align: right;\">\n",
       "      <th></th>\n",
       "      <th>Employee_Identifier</th>\n",
       "      <th>Salaries</th>\n",
       "      <th>Overtime</th>\n",
       "      <th>Other_Salaries</th>\n",
       "      <th>Total_Salary</th>\n",
       "      <th>Retirement</th>\n",
       "      <th>Health/Dental</th>\n",
       "      <th>Other_Benefits</th>\n",
       "      <th>Total_Benefits</th>\n",
       "      <th>Total_Compensation</th>\n",
       "    </tr>\n",
       "  </thead>\n",
       "  <tbody>\n",
       "    <tr>\n",
       "      <th>count</th>\n",
       "      <td>50000.000000</td>\n",
       "      <td>50000.000000</td>\n",
       "      <td>50000.000000</td>\n",
       "      <td>50000.000000</td>\n",
       "      <td>50000.000000</td>\n",
       "      <td>50000.000000</td>\n",
       "      <td>50000.000000</td>\n",
       "      <td>50000.000000</td>\n",
       "      <td>50000.000000</td>\n",
       "      <td>50000.000000</td>\n",
       "    </tr>\n",
       "    <tr>\n",
       "      <th>mean</th>\n",
       "      <td>26951.248280</td>\n",
       "      <td>63216.072364</td>\n",
       "      <td>4359.764337</td>\n",
       "      <td>3733.388626</td>\n",
       "      <td>71309.225327</td>\n",
       "      <td>12928.106369</td>\n",
       "      <td>8901.317952</td>\n",
       "      <td>4651.513353</td>\n",
       "      <td>26480.937674</td>\n",
       "      <td>97790.163001</td>\n",
       "    </tr>\n",
       "    <tr>\n",
       "      <th>std</th>\n",
       "      <td>15538.458578</td>\n",
       "      <td>44815.697797</td>\n",
       "      <td>11080.852986</td>\n",
       "      <td>7585.911796</td>\n",
       "      <td>52275.710533</td>\n",
       "      <td>9816.080647</td>\n",
       "      <td>4909.608132</td>\n",
       "      <td>3790.660610</td>\n",
       "      <td>16841.374081</td>\n",
       "      <td>67871.134243</td>\n",
       "    </tr>\n",
       "    <tr>\n",
       "      <th>min</th>\n",
       "      <td>1.000000</td>\n",
       "      <td>-18437.730000</td>\n",
       "      <td>-12308.660000</td>\n",
       "      <td>-1473.150000</td>\n",
       "      <td>-3091.660000</td>\n",
       "      <td>-22684.610000</td>\n",
       "      <td>-478.950000</td>\n",
       "      <td>-8783.180000</td>\n",
       "      <td>-12992.390000</td>\n",
       "      <td>-3518.340000</td>\n",
       "    </tr>\n",
       "    <tr>\n",
       "      <th>25%</th>\n",
       "      <td>13509.750000</td>\n",
       "      <td>23347.365000</td>\n",
       "      <td>0.000000</td>\n",
       "      <td>0.000000</td>\n",
       "      <td>25281.260000</td>\n",
       "      <td>3559.685000</td>\n",
       "      <td>4267.960000</td>\n",
       "      <td>1588.502500</td>\n",
       "      <td>9570.765000</td>\n",
       "      <td>35769.755000</td>\n",
       "    </tr>\n",
       "    <tr>\n",
       "      <th>50%</th>\n",
       "      <td>27023.500000</td>\n",
       "      <td>62466.200000</td>\n",
       "      <td>0.000000</td>\n",
       "      <td>648.000000</td>\n",
       "      <td>67805.925000</td>\n",
       "      <td>13149.375000</td>\n",
       "      <td>11967.270000</td>\n",
       "      <td>4359.725000</td>\n",
       "      <td>30253.640000</td>\n",
       "      <td>97881.505000</td>\n",
       "    </tr>\n",
       "    <tr>\n",
       "      <th>75%</th>\n",
       "      <td>40364.250000</td>\n",
       "      <td>93031.832500</td>\n",
       "      <td>2648.882500</td>\n",
       "      <td>4477.030000</td>\n",
       "      <td>102920.862500</td>\n",
       "      <td>19580.715000</td>\n",
       "      <td>12801.790000</td>\n",
       "      <td>6854.057500</td>\n",
       "      <td>38708.865000</td>\n",
       "      <td>141770.195000</td>\n",
       "    </tr>\n",
       "    <tr>\n",
       "      <th>max</th>\n",
       "      <td>53793.000000</td>\n",
       "      <td>507831.600000</td>\n",
       "      <td>208668.820000</td>\n",
       "      <td>199112.350000</td>\n",
       "      <td>507831.600000</td>\n",
       "      <td>105052.980000</td>\n",
       "      <td>21291.180000</td>\n",
       "      <td>34108.750000</td>\n",
       "      <td>141043.640000</td>\n",
       "      <td>648875.240000</td>\n",
       "    </tr>\n",
       "  </tbody>\n",
       "</table>\n",
       "</div>"
      ],
      "text/plain": [
       "       Employee_Identifier       Salaries       Overtime  Other_Salaries  \\\n",
       "count         50000.000000   50000.000000   50000.000000    50000.000000   \n",
       "mean          26951.248280   63216.072364    4359.764337     3733.388626   \n",
       "std           15538.458578   44815.697797   11080.852986     7585.911796   \n",
       "min               1.000000  -18437.730000  -12308.660000    -1473.150000   \n",
       "25%           13509.750000   23347.365000       0.000000        0.000000   \n",
       "50%           27023.500000   62466.200000       0.000000      648.000000   \n",
       "75%           40364.250000   93031.832500    2648.882500     4477.030000   \n",
       "max           53793.000000  507831.600000  208668.820000   199112.350000   \n",
       "\n",
       "        Total_Salary     Retirement  Health/Dental  Other_Benefits  \\\n",
       "count   50000.000000   50000.000000   50000.000000    50000.000000   \n",
       "mean    71309.225327   12928.106369    8901.317952     4651.513353   \n",
       "std     52275.710533    9816.080647    4909.608132     3790.660610   \n",
       "min     -3091.660000  -22684.610000    -478.950000    -8783.180000   \n",
       "25%     25281.260000    3559.685000    4267.960000     1588.502500   \n",
       "50%     67805.925000   13149.375000   11967.270000     4359.725000   \n",
       "75%    102920.862500   19580.715000   12801.790000     6854.057500   \n",
       "max    507831.600000  105052.980000   21291.180000    34108.750000   \n",
       "\n",
       "       Total_Benefits  Total_Compensation  \n",
       "count    50000.000000        50000.000000  \n",
       "mean     26480.937674        97790.163001  \n",
       "std      16841.374081        67871.134243  \n",
       "min     -12992.390000        -3518.340000  \n",
       "25%       9570.765000        35769.755000  \n",
       "50%      30253.640000        97881.505000  \n",
       "75%      38708.865000       141770.195000  \n",
       "max     141043.640000       648875.240000  "
      ]
     },
     "execution_count": 37,
     "metadata": {},
     "output_type": "execute_result"
    }
   ],
   "source": [
    "df.describe()"
   ]
  },
  {
   "cell_type": "markdown",
   "id": "c3cd28ee-cc63-477c-8ed0-0315953a39c1",
   "metadata": {},
   "source": [
    "Let's check the correlation between salaries and overtime"
   ]
  },
  {
   "cell_type": "code",
   "execution_count": 38,
   "id": "ee8a7cb3-78da-4d42-b4b6-b3d76b8da851",
   "metadata": {
    "scrolled": true
   },
   "outputs": [
    {
     "data": {
      "text/html": [
       "<div>\n",
       "<style scoped>\n",
       "    .dataframe tbody tr th:only-of-type {\n",
       "        vertical-align: middle;\n",
       "    }\n",
       "\n",
       "    .dataframe tbody tr th {\n",
       "        vertical-align: top;\n",
       "    }\n",
       "\n",
       "    .dataframe thead th {\n",
       "        text-align: right;\n",
       "    }\n",
       "</style>\n",
       "<table border=\"1\" class=\"dataframe\">\n",
       "  <thead>\n",
       "    <tr style=\"text-align: right;\">\n",
       "      <th></th>\n",
       "      <th>Overtime</th>\n",
       "      <th>Salaries</th>\n",
       "      <th>Other_Salaries</th>\n",
       "      <th>Total_Salary</th>\n",
       "    </tr>\n",
       "  </thead>\n",
       "  <tbody>\n",
       "    <tr>\n",
       "      <th>Overtime</th>\n",
       "      <td>1.000000</td>\n",
       "      <td>0.266594</td>\n",
       "      <td>0.350620</td>\n",
       "      <td>0.491398</td>\n",
       "    </tr>\n",
       "    <tr>\n",
       "      <th>Salaries</th>\n",
       "      <td>0.266594</td>\n",
       "      <td>1.000000</td>\n",
       "      <td>0.323925</td>\n",
       "      <td>0.960810</td>\n",
       "    </tr>\n",
       "    <tr>\n",
       "      <th>Other_Salaries</th>\n",
       "      <td>0.350620</td>\n",
       "      <td>0.323925</td>\n",
       "      <td>1.000000</td>\n",
       "      <td>0.497133</td>\n",
       "    </tr>\n",
       "    <tr>\n",
       "      <th>Total_Salary</th>\n",
       "      <td>0.491398</td>\n",
       "      <td>0.960810</td>\n",
       "      <td>0.497133</td>\n",
       "      <td>1.000000</td>\n",
       "    </tr>\n",
       "  </tbody>\n",
       "</table>\n",
       "</div>"
      ],
      "text/plain": [
       "                Overtime  Salaries  Other_Salaries  Total_Salary\n",
       "Overtime        1.000000  0.266594        0.350620      0.491398\n",
       "Salaries        0.266594  1.000000        0.323925      0.960810\n",
       "Other_Salaries  0.350620  0.323925        1.000000      0.497133\n",
       "Total_Salary    0.491398  0.960810        0.497133      1.000000"
      ]
     },
     "execution_count": 38,
     "metadata": {},
     "output_type": "execute_result"
    }
   ],
   "source": [
    "df[[\"Overtime\", \"Salaries\", \"Other_Salaries\" ,\"Total_Salary\"]].corr()"
   ]
  },
  {
   "cell_type": "markdown",
   "id": "2e32719b-c6b4-4e50-a4a4-3bb71680a3b1",
   "metadata": {},
   "source": [
    "### Overtime seems to have very less influence on a person's salary"
   ]
  },
  {
   "cell_type": "code",
   "execution_count": 39,
   "id": "6d3546da-1dd9-46d7-984a-37449e5b1b3b",
   "metadata": {},
   "outputs": [
    {
     "data": {
      "text/html": [
       "<div>\n",
       "<style scoped>\n",
       "    .dataframe tbody tr th:only-of-type {\n",
       "        vertical-align: middle;\n",
       "    }\n",
       "\n",
       "    .dataframe tbody tr th {\n",
       "        vertical-align: top;\n",
       "    }\n",
       "\n",
       "    .dataframe thead th {\n",
       "        text-align: right;\n",
       "    }\n",
       "</style>\n",
       "<table border=\"1\" class=\"dataframe\">\n",
       "  <thead>\n",
       "    <tr style=\"text-align: right;\">\n",
       "      <th></th>\n",
       "      <th>Overtime</th>\n",
       "      <th>Total_Compensation</th>\n",
       "    </tr>\n",
       "  </thead>\n",
       "  <tbody>\n",
       "    <tr>\n",
       "      <th>Overtime</th>\n",
       "      <td>1.000000</td>\n",
       "      <td>0.449068</td>\n",
       "    </tr>\n",
       "    <tr>\n",
       "      <th>Total_Compensation</th>\n",
       "      <td>0.449068</td>\n",
       "      <td>1.000000</td>\n",
       "    </tr>\n",
       "  </tbody>\n",
       "</table>\n",
       "</div>"
      ],
      "text/plain": [
       "                    Overtime  Total_Compensation\n",
       "Overtime            1.000000            0.449068\n",
       "Total_Compensation  0.449068            1.000000"
      ]
     },
     "execution_count": 39,
     "metadata": {},
     "output_type": "execute_result"
    }
   ],
   "source": [
    "df[[\"Overtime\",\"Total_Compensation\"]].corr()"
   ]
  },
  {
   "cell_type": "markdown",
   "id": "4a15da49-e3f7-4cbb-ae43-207145eab8f4",
   "metadata": {},
   "source": [
    "# Average total salary each year"
   ]
  },
  {
   "cell_type": "code",
   "execution_count": 40,
   "id": "ba0853ab-a6f0-465f-be02-eac7341d56b6",
   "metadata": {},
   "outputs": [
    {
     "data": {
      "image/png": "[encoded data removed]",
      "text/plain": [
       "<Figure size 640x480 with 1 Axes>"
      ]
     },
     "metadata": {},
     "output_type": "display_data"
    }
   ],
   "source": [
    "df1 = df.groupby('Year')['Total_Salary'].mean()\n",
    "\n",
    "df1.plot(x=\"Year\", y=\"Total_Salary\", kind=\"bar\", color=\"green\",title=\"Salary distribution\")\n",
    "\n",
    "plt.xlabel(\"Year\")\n",
    "plt.ylabel(\"Salary\")\n",
    "plt.show()"
   ]
  },
  {
   "cell_type": "code",
   "execution_count": 41,
   "id": "31831fde-825b-453f-8e38-b86a20c6111d",
   "metadata": {},
   "outputs": [
    {
     "data": {
      "image/png": "[encoded data removed]",
      "text/plain": [
       "<Figure size 640x480 with 1 Axes>"
      ]
     },
     "metadata": {},
     "output_type": "display_data"
    }
   ],
   "source": [
    "df1 = df.groupby('Year')['Total_Salary'].median()\n",
    "\n",
    "df1.plot(x=\"Year\", y=\"Total_Salary\",kind=\"line\",marker='o', color=\"Blue\",linestyle='--', title=\"Salary Trend\")\n",
    "\n",
    "plt.xlabel(\"Year\")\n",
    "plt.ylabel(\"Salary\")\n",
    "plt.show()"
   ]
  },
  {
   "cell_type": "code",
   "execution_count": 42,
   "id": "dcac6006-5a82-4371-ad13-9c365b77f995",
   "metadata": {},
   "outputs": [
    {
     "data": {
      "image/png": "[encoded data removed]",
      "text/plain": [
       "<Figure size 640x480 with 1 Axes>"
      ]
     },
     "metadata": {},
     "output_type": "display_data"
    }
   ],
   "source": [
    "df1 = df.groupby('Year')['Total_Salary'].agg(lambda x:x.mode())\n",
    "\n",
    "df1.plot(x=\"Year\", y=\"Total_Salary\",kind=\"line\",marker='o', color=\"Blue\",linestyle='--', title=\"Salary Trend\")\n",
    "\n",
    "plt.xlabel(\"Year\")\n",
    "plt.ylabel(\"Salary\")\n",
    "plt.show()"
   ]
  },
  {
   "cell_type": "markdown",
   "id": "e7f8a53e-bb33-43d2-ac3d-ad39455a19cf",
   "metadata": {},
   "source": [
    " ### Although average salary is quite same across all the years, the median data implies that low number of high paying jobs were there in the years after 2013 especially in 2014"
   ]
  },
  {
   "cell_type": "markdown",
   "id": "49d3a395-211a-49f9-bb01-8522f2d598c8",
   "metadata": {},
   "source": [
    "### Mode suggests that the first three years many people were doing low paying jobs, one ofthe possible reasons could be more early career  jobs were there that time compared to the 2016 year"
   ]
  },
  {
   "cell_type": "code",
   "execution_count": 43,
   "id": "1c18f0dd-aaa1-4089-9625-455d2258d096",
   "metadata": {},
   "outputs": [
    {
     "data": {
      "image/png": "[encoded data removed]",
      "text/plain": [
       "<Figure size 640x480 with 1 Axes>"
      ]
     },
     "metadata": {},
     "output_type": "display_data"
    }
   ],
   "source": [
    "df1 = df.groupby('Year')['Total_Salary'].std()\n",
    "\n",
    "df1.plot(x=\"Year\", y=\"Total_Salary\",kind=\"line\",marker='o', color=\"Blue\",linestyle='--', title=\"Salary Trend\")\n",
    "\n",
    "plt.xlabel(\"Year\")\n",
    "plt.ylabel(\"Salary\")\n",
    "plt.show()"
   ]
  },
  {
   "cell_type": "markdown",
   "id": "26c80938-8b5b-4705-b11d-bd27e9f78956",
   "metadata": {},
   "source": [
    "### First two years standard deviation was quite low stating salaries were quite consistent during that period  of time compared next two years."
   ]
  },
  {
   "cell_type": "markdown",
   "id": "fdaf1293-4270-4094-8445-869859dfe77b",
   "metadata": {},
   "source": [
    "### Lets's remove Outliers and Make test and training data split"
   ]
  },
  {
   "cell_type": "code",
   "execution_count": 54,
   "id": "a7f03ae4-0db2-45ee-b917-19dc63b95593",
   "metadata": {},
   "outputs": [
    {
     "data": {
      "text/plain": [
       "(49661, 2)"
      ]
     },
     "execution_count": 54,
     "metadata": {},
     "output_type": "execute_result"
    }
   ],
   "source": [
    "df2 = df[['Year', 'Total_Salary']]\n",
    "# calculate the first quartile\n",
    "Q1 = df2['Total_Salary'].quantile(0.25)\n",
    "\n",
    "# calculate the third quartile\n",
    "Q3 = df2['Total_Salary'].quantile(0.75)\n",
    "\n",
    "# Calculate the lower and upper bounds for detecting outliers\n",
    "lower_bound = Q1 - 1.5 * IQR\n",
    "upper_bound = Q3 + 1.5 * IQR\n",
    "\n",
    "# Filter the DataFrame to exclude outliers based on the IQR method\n",
    "df_salary = df2[(df2['Total_Salary'] >= lower_bound) & (df2['Total_Salary'] <= upper_bound)]\n",
    "\n",
    "# check the shape of the data\n",
    "df_salary.shape"
   ]
  },
  {
   "cell_type": "code",
   "execution_count": 55,
   "id": "25d9cee6-f238-4de0-8ef8-bf0369e8e2d5",
   "metadata": {},
   "outputs": [
    {
     "name": "stdout",
     "output_type": "stream",
     "text": [
      "X_train_slr (34762,)\n",
      "y_train_slr (34762,)\n",
      "X_test_slr (14899,)\n",
      "y_test_slr (14899,)\n"
     ]
    }
   ],
   "source": [
    "# from sklearn.model_selection import train_test_split\n",
    "\n",
    "X_train_slr, X_test_slr, y_train_slr, y_test_slr = train_test_split(df_salary['Year'], df_salary['Total_Salary'], \n",
    "                                                    random_state=1, test_size = 0.3)\n",
    "\n",
    "\n",
    "print('X_train_slr', X_train_slr.shape)\n",
    "print('y_train_slr', y_train_slr.shape)\n",
    "\n",
    "\n",
    "print('X_test_slr', X_test_slr.shape)\n",
    "print('y_test_slr', y_test_slr.shape)"
   ]
  },
  {
   "cell_type": "code",
   "execution_count": null,
   "id": "c6c021cb-55e9-448a-a31c-465ea86df242",
   "metadata": {},
   "outputs": [],
   "source": []
  }
 ],
 "metadata": {
  "kernelspec": {
   "display_name": "Python 3 (ipykernel)",
   "language": "python",
   "name": "python3"
  },
  "language_info": {
   "codemirror_mode": {
    "name": "ipython",
    "version": 3
   },
   "file_extension": ".py",
   "mimetype": "text/x-python",
   "name": "python",
   "nbconvert_exporter": "python",
   "pygments_lexer": "ipython3",
   "version": "3.12.2"
  }
 },
 "nbformat": 4,
 "nbformat_minor": 5
}
